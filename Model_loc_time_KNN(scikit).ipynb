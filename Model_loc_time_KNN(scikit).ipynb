{
 "cells": [
  {
   "cell_type": "code",
   "execution_count": 2,
   "metadata": {},
   "outputs": [],
   "source": [
    "import pandas as pd\n",
    "import numpy as np"
   ]
  },
  {
   "cell_type": "code",
   "execution_count": 3,
   "metadata": {},
   "outputs": [],
   "source": [
    "dataset = pd.read_csv(r'C:\\Users\\sreep\\Desktop\\projects and hackathons\\INTEL_20\\data_loc_time.csv')"
   ]
  },
  {
   "cell_type": "code",
   "execution_count": 4,
   "metadata": {},
   "outputs": [],
   "source": [
    "#Label encoding alarm type\n",
    "\n",
    "dataset['alarmType']=dataset['alarmType'].astype('category')\n",
    "dataset['alarmType_cat']=dataset['alarmType'].cat.codes"
   ]
  },
  {
   "cell_type": "code",
   "execution_count": 5,
   "metadata": {},
   "outputs": [
    {
     "data": {
      "text/plain": [
       "recorded_at_time       int64\n",
       "latitude             float64\n",
       "longitude            float64\n",
       "alarmType           category\n",
       "alarmType_cat           int8\n",
       "dtype: object"
      ]
     },
     "execution_count": 5,
     "metadata": {},
     "output_type": "execute_result"
    }
   ],
   "source": [
    "dataset.dtypes\n"
   ]
  },
  {
   "cell_type": "code",
   "execution_count": 6,
   "metadata": {},
   "outputs": [
    {
     "data": {
      "text/plain": [
       "\"\\nfor i in range(len(dataset['alarmType'])):\\n    if dataset['alarmType'][i]=='stoppage':\\n        print(dataset['alarmType_cat'][i])\""
      ]
     },
     "execution_count": 6,
     "metadata": {},
     "output_type": "execute_result"
    }
   ],
   "source": [
    "dataset.head(5)\n",
    "'''\n",
    "for i in range(len(dataset['alarmType'])):\n",
    "    if dataset['alarmType'][i]=='stoppage':\n",
    "        print(dataset['alarmType_cat'][i])'''\n",
    "\n"
   ]
  },
  {
   "cell_type": "code",
   "execution_count": 7,
   "metadata": {},
   "outputs": [],
   "source": [
    "#Features ClassLabels\n",
    "\n",
    "#X = dataset.iloc[:,:-2].values\n",
    "#Y = dataset.iloc[:,:4].values\n",
    "\n",
    "\n",
    "X = dataset.drop(['alarmType_cat','alarmType'],axis=1)\n",
    "Y = dataset['alarmType_cat']\n"
   ]
  },
  {
   "cell_type": "code",
   "execution_count": 8,
   "metadata": {},
   "outputs": [
    {
     "name": "stdout",
     "output_type": "stream",
     "text": [
      "Training length:106504\n",
      "Testing length:11834\n",
      "Training length:106504\n",
      "Testing length:11834\n"
     ]
    }
   ],
   "source": [
    "#Train test split\n",
    "\n",
    "from sklearn.model_selection import train_test_split as tts\n",
    "X_train, X_test, Y_train, Y_test = tts(X,Y, test_size = 0.10, shuffle=True)\n",
    "\n",
    "print(\"Training length:\" + repr(len(X_train)))\n",
    "print(\"Testing length:\" + repr(len(X_test)))\n",
    "print(\"Training length:\" + repr(len(Y_train)))\n",
    "print(\"Testing length:\" + repr(len(Y_test)))"
   ]
  },
  {
   "cell_type": "code",
   "execution_count": 9,
   "metadata": {},
   "outputs": [],
   "source": [
    "#Feature scaling\n",
    "\n",
    "from sklearn.preprocessing import RobustScaler as RS\n",
    "scaler = RS()\n",
    "scaler.fit(X_train)\n",
    "\n",
    "X_train = scaler.transform(X_train)\n",
    "X_test = scaler.transform(X_test)"
   ]
  },
  {
   "cell_type": "code",
   "execution_count": 44,
   "metadata": {},
   "outputs": [
    {
     "data": {
      "text/plain": [
       "KNeighborsClassifier(algorithm='auto', leaf_size=30, metric='minkowski',\n",
       "                     metric_params=None, n_jobs=None, n_neighbors=21, p=2,\n",
       "                     weights='uniform')"
      ]
     },
     "execution_count": 44,
     "metadata": {},
     "output_type": "execute_result"
    }
   ],
   "source": [
    "#Training \n",
    "\n",
    "from sklearn.neighbors import KNeighborsClassifier as KNC\n",
    "\n",
    "\n",
    "classifier = KNC(n_neighbors = 21 )\n",
    "classifier.fit(X_train,Y_train)\n",
    "\n",
    "\n"
   ]
  },
  {
   "cell_type": "code",
   "execution_count": 45,
   "metadata": {},
   "outputs": [],
   "source": [
    "import pickle "
   ]
  },
  {
   "cell_type": "code",
   "execution_count": 46,
   "metadata": {},
   "outputs": [],
   "source": [
    "#Saving \n",
    "\n",
    "filename='model_loc_time_knn.pkl'\n",
    "\n",
    "pickle.dump(classifier, open(filename, 'wb'))\n",
    "\n"
   ]
  },
  {
   "cell_type": "code",
   "execution_count": 47,
   "metadata": {},
   "outputs": [],
   "source": [
    "#loading the model\n",
    "\n",
    "filename='model_loc_time_knn.pkl'\n",
    "model=pickle.load(open(filename, 'rb'))"
   ]
  },
  {
   "cell_type": "code",
   "execution_count": 48,
   "metadata": {},
   "outputs": [],
   "source": [
    "#Predictions\n",
    "\n",
    "Y_pred = model.predict(X_test)"
   ]
  },
  {
   "cell_type": "code",
   "execution_count": 49,
   "metadata": {},
   "outputs": [
    {
     "name": "stdout",
     "output_type": "stream",
     "text": [
      "HMW\n"
     ]
    }
   ],
   "source": [
    "def res(time,lat,long):\n",
    "    r=model.predict([[time,lat,long]])\n",
    "    if r==0:\n",
    "        print(\"FCW\")\n",
    "    elif r==1:\n",
    "        print(\"HB\")\n",
    "    elif r==2:\n",
    "        print(\"HMW\")\n",
    "    elif r==3:\n",
    "        print(\"PCW\")\n",
    "    elif r==4:\n",
    "        print(\"Stoppage\")\n",
    "\n",
    "\n",
    "res(10,8.180509567,77.418396)"
   ]
  },
  {
   "cell_type": "code",
   "execution_count": 50,
   "metadata": {},
   "outputs": [
    {
     "name": "stdout",
     "output_type": "stream",
     "text": [
      "Confusion Matrix : \n",
      " [[2498    0 2544   61   24]\n",
      " [  49    1   43    0    3]\n",
      " [1701    0 4093   24   15]\n",
      " [ 345    0  138  104   16]\n",
      " [  31    0   27   10  107]]\n",
      "\n",
      "\n",
      "Classification report : \n",
      "               precision    recall  f1-score   support\n",
      "\n",
      "           0       0.54      0.49      0.51      5127\n",
      "           1       1.00      0.01      0.02        96\n",
      "           2       0.60      0.70      0.65      5833\n",
      "           3       0.52      0.17      0.26       603\n",
      "           4       0.65      0.61      0.63       175\n",
      "\n",
      "    accuracy                           0.57     11834\n",
      "   macro avg       0.66      0.40      0.41     11834\n",
      "weighted avg       0.57      0.57      0.56     11834\n",
      "\n",
      "\n",
      "\n",
      "Accuracy :  57.486902146357956\n"
     ]
    }
   ],
   "source": [
    "#Evaluation\n",
    "\n",
    "from sklearn.metrics import classification_report as cr, confusion_matrix as cm, accuracy_score as acc_s\n",
    "\n",
    "print(\"Confusion Matrix : \\n\", cm(Y_test,Y_pred))\n",
    "print(\"\\n\\nClassification report : \\n\", cr(Y_test,Y_pred))\n",
    "print(\"\\n\\nAccuracy : \", acc_s(Y_test,Y_pred)*100)\n"
   ]
  },
  {
   "cell_type": "code",
   "execution_count": 51,
   "metadata": {},
   "outputs": [
    {
     "name": "stdout",
     "output_type": "stream",
     "text": [
      "HMW\n"
     ]
    }
   ],
   "source": [
    "res(3,8.178689957,77.42429352)"
   ]
  },
  {
   "cell_type": "code",
   "execution_count": 18,
   "metadata": {},
   "outputs": [
    {
     "data": {
      "image/png": "[encoded data removed]",
      "text/plain": [
       "<Figure size 864x432 with 1 Axes>"
      ]
     },
     "metadata": {
      "needs_background": "light"
     },
     "output_type": "display_data"
    }
   ],
   "source": [
    "#Finding suitable k\n",
    "\n",
    "e=[]\n",
    "\n",
    "for i in range(1,50):\n",
    "    knn=KNC(n_neighbors=i)\n",
    "    knn.fit(X_train,Y_train)\n",
    "    pred_i=knn.predict(X_test)\n",
    "    e.append(np.mean(pred_i !=Y_test))\n",
    "       \n",
    "import matplotlib.pyplot as plt\n",
    "\n",
    "plt.figure(figsize=(12,6))\n",
    "plt.plot(range(1,50), e,color='red',linestyle='dashed',marker='o',markerfacecolor='blue',markersize=10)\n",
    "plt.xlabel('k')\n",
    "plt.ylabel('error')\n",
    "\n",
    "plt.show()"
   ]
  },
  {
   "cell_type": "code",
   "execution_count": 19,
   "metadata": {},
   "outputs": [
    {
     "data": {
      "image/png": "[encoded data removed]",
      "text/plain": [
       "<Figure size 864x432 with 1 Axes>"
      ]
     },
     "metadata": {
      "needs_background": "light"
     },
     "output_type": "display_data"
    }
   ],
   "source": [
    "#Finding suitable k\n",
    "\n",
    "e=[]\n",
    "\n",
    "for i in range(100,150):\n",
    "    knn=KNC(n_neighbors=i)\n",
    "    knn.fit(X_train,Y_train)\n",
    "    pred_i=knn.predict(X_test)\n",
    "    e.append(np.mean(pred_i !=Y_test))\n",
    "    \n",
    "err=np.array(e)\n",
    "    \n",
    "import matplotlib.pyplot as plt\n",
    "\n",
    "plt.figure(figsize=(12,6))\n",
    "plt.plot(range(100,150), e,color='red',linestyle='dashed',marker='o',markerfacecolor='blue',markersize=10)\n",
    "plt.xlabel('k')\n",
    "plt.ylabel('error')\n",
    "\n",
    "plt.show()"
   ]
  },
  {
   "cell_type": "code",
   "execution_count": 60,
   "metadata": {},
   "outputs": [
    {
     "data": {
      "image/png": "[encoded data removed]",
      "text/plain": [
       "<Figure size 864x432 with 1 Axes>"
      ]
     },
     "metadata": {
      "needs_background": "light"
     },
     "output_type": "display_data"
    }
   ],
   "source": [
    "#Finding suitable k\n",
    "\n",
    "e=[]\n",
    "\n",
    "for i in range(200,250):\n",
    "    knn=KNC(n_neighbors=i)\n",
    "    knn.fit(X_train,Y_train)\n",
    "    pred_i=knn.predict(X_test)\n",
    "    e.append(np.mean(pred_i !=Y_test))\n",
    "    \n",
    "err=np.array(e)\n",
    "    \n",
    "import matplotlib.pyplot as plt\n",
    "\n",
    "plt.figure(figsize=(12,6))\n",
    "plt.plot(range(200,250), e,color='red',linestyle='dashed',marker='o',markerfacecolor='blue',markersize=10)\n",
    "plt.xlabel('k')\n",
    "plt.ylabel('error')\n",
    "\n",
    "plt.show()"
   ]
  },
  {
   "cell_type": "code",
   "execution_count": 58,
   "metadata": {},
   "outputs": [
    {
     "name": "stdout",
     "output_type": "stream",
     "text": [
      "{0, 1, 2, 3, 4}\n",
      "{0, 1, 2, 3, 4}\n",
      "{0, 1, 2, 3, 4}\n"
     ]
    }
   ],
   "source": [
    "\n",
    "print(set(Y_pred))\n",
    "\n",
    "print(set(Y_test))\n",
    "print(set(Y_train))\n"
   ]
  },
  {
   "cell_type": "code",
   "execution_count": 52,
   "metadata": {},
   "outputs": [],
   "source": [
    "def CountFrequency(my_list): \n",
    "  \n",
    "    # Creating an empty dictionary  \n",
    "    freq = {} \n",
    "    for item in my_list: \n",
    "        if (item in freq): \n",
    "            freq[item] += 1\n",
    "        else: \n",
    "            freq[item] = 1\n",
    "  \n",
    "    for key, value in freq.items(): \n",
    "        print (key,\" : \", value) \n",
    "  \n",
    "\n",
    "  \n"
   ]
  },
  {
   "cell_type": "code",
   "execution_count": 53,
   "metadata": {},
   "outputs": [
    {
     "name": "stdout",
     "output_type": "stream",
     "text": [
      "0  :  51481\n",
      "3  :  6009\n",
      "1  :  936\n",
      "2  :  58064\n",
      "4  :  1848\n"
     ]
    }
   ],
   "source": [
    "CountFrequency(dataset['alarmType_cat']) "
   ]
  },
  {
   "cell_type": "code",
   "execution_count": 54,
   "metadata": {},
   "outputs": [
    {
     "name": "stdout",
     "output_type": "stream",
     "text": [
      "FCW  :  51481\n",
      "PCW  :  6009\n",
      "HB  :  936\n",
      "HMW  :  58064\n",
      "stoppage  :  1848\n"
     ]
    }
   ],
   "source": [
    "CountFrequency(dataset['alarmType']) "
   ]
  },
  {
   "cell_type": "code",
   "execution_count": 55,
   "metadata": {},
   "outputs": [
    {
     "name": "stdout",
     "output_type": "stream",
     "text": [
      "2  :  6845\n",
      "0  :  4624\n",
      "3  :  199\n",
      "4  :  165\n",
      "1  :  1\n"
     ]
    }
   ],
   "source": [
    "CountFrequency(Y_pred) "
   ]
  },
  {
   "cell_type": "code",
   "execution_count": 56,
   "metadata": {},
   "outputs": [
    {
     "name": "stdout",
     "output_type": "stream",
     "text": [
      "2  :  5833\n",
      "0  :  5127\n",
      "3  :  603\n",
      "4  :  175\n",
      "1  :  96\n"
     ]
    }
   ],
   "source": [
    "CountFrequency(Y_test) "
   ]
  },
  {
   "cell_type": "code",
   "execution_count": 57,
   "metadata": {},
   "outputs": [
    {
     "name": "stdout",
     "output_type": "stream",
     "text": [
      "0  :  46354\n",
      "2  :  52231\n",
      "4  :  1673\n",
      "3  :  5406\n",
      "1  :  840\n"
     ]
    }
   ],
   "source": [
    "CountFrequency(Y_train) "
   ]
  },
  {
   "cell_type": "code",
   "execution_count": null,
   "metadata": {},
   "outputs": [],
   "source": []
  }
 ],
 "metadata": {
  "kernelspec": {
   "display_name": "Python 3",
   "language": "python",
   "name": "python3"
  },
  "language_info": {
   "codemirror_mode": {
    "name": "ipython",
    "version": 3
   },
   "file_extension": ".py",
   "mimetype": "text/x-python",
   "name": "python",
   "nbconvert_exporter": "python",
   "pygments_lexer": "ipython3",
   "version": "3.6.10"
  }
 },
 "nbformat": 4,
 "nbformat_minor": 2
}
