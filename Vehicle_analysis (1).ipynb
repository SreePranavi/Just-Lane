{
 "cells": [
  {
   "cell_type": "code",
   "execution_count": 14,
   "metadata": {},
   "outputs": [],
   "source": [
    "import matplotlib.pyplot as plt\n",
    "import numpy as np\n",
    "import pandas as pd\n",
    "import seaborn as sns"
   ]
  },
  {
   "cell_type": "code",
   "execution_count": 15,
   "metadata": {},
   "outputs": [
    {
     "data": {
      "text/html": [
       "<div>\n",
       "<style scoped>\n",
       "    .dataframe tbody tr th:only-of-type {\n",
       "        vertical-align: middle;\n",
       "    }\n",
       "\n",
       "    .dataframe tbody tr th {\n",
       "        vertical-align: top;\n",
       "    }\n",
       "\n",
       "    .dataframe thead th {\n",
       "        text-align: right;\n",
       "    }\n",
       "</style>\n",
       "<table border=\"1\" class=\"dataframe\">\n",
       "  <thead>\n",
       "    <tr style=\"text-align: right;\">\n",
       "      <th></th>\n",
       "      <th>_id_id</th>\n",
       "      <th>deviceId</th>\n",
       "      <th>speed</th>\n",
       "      <th>alarmType</th>\n",
       "      <th>recorded_at_hour</th>\n",
       "      <th>latitude</th>\n",
       "      <th>longitude</th>\n",
       "      <th>recorded_at_date</th>\n",
       "      <th>recorded_at_time</th>\n",
       "      <th>AM/PM</th>\n",
       "    </tr>\n",
       "  </thead>\n",
       "  <tbody>\n",
       "    <tr>\n",
       "      <th>0</th>\n",
       "      <td>1</td>\n",
       "      <td>12DF03C6:19727335125463040688</td>\n",
       "      <td>68</td>\n",
       "      <td>HMW</td>\n",
       "      <td>12.01</td>\n",
       "      <td>12.458807</td>\n",
       "      <td>78.215302</td>\n",
       "      <td>15-11-2019</td>\n",
       "      <td>00:01:36</td>\n",
       "      <td>AM</td>\n",
       "    </tr>\n",
       "    <tr>\n",
       "      <th>1</th>\n",
       "      <td>1</td>\n",
       "      <td>12DF03C6:19523068255842304686</td>\n",
       "      <td>66</td>\n",
       "      <td>FCW</td>\n",
       "      <td>12.05</td>\n",
       "      <td>11.874505</td>\n",
       "      <td>75.379805</td>\n",
       "      <td>11-01-2020</td>\n",
       "      <td>00:05:49</td>\n",
       "      <td>AM</td>\n",
       "    </tr>\n",
       "    <tr>\n",
       "      <th>2</th>\n",
       "      <td>1</td>\n",
       "      <td>12DF03C6:19613968860508160686</td>\n",
       "      <td>40</td>\n",
       "      <td>FCW</td>\n",
       "      <td>12.57</td>\n",
       "      <td>11.551686</td>\n",
       "      <td>76.038635</td>\n",
       "      <td>20-10-2019</td>\n",
       "      <td>00:57:55</td>\n",
       "      <td>AM</td>\n",
       "    </tr>\n",
       "    <tr>\n",
       "      <th>3</th>\n",
       "      <td>1</td>\n",
       "      <td>12DF03C6:19890203641970688685</td>\n",
       "      <td>65</td>\n",
       "      <td>HMW</td>\n",
       "      <td>12.02</td>\n",
       "      <td>10.057168</td>\n",
       "      <td>76.529190</td>\n",
       "      <td>01-11-2019</td>\n",
       "      <td>00:02:08</td>\n",
       "      <td>AM</td>\n",
       "    </tr>\n",
       "    <tr>\n",
       "      <th>4</th>\n",
       "      <td>1</td>\n",
       "      <td>12DF03C6:19523068255842304686</td>\n",
       "      <td>60</td>\n",
       "      <td>HMW</td>\n",
       "      <td>12.06</td>\n",
       "      <td>9.839572</td>\n",
       "      <td>76.593063</td>\n",
       "      <td>26-11-2019</td>\n",
       "      <td>00:06:32</td>\n",
       "      <td>AM</td>\n",
       "    </tr>\n",
       "    <tr>\n",
       "      <th>5</th>\n",
       "      <td>1</td>\n",
       "      <td>12DF03C6:19523068255842304686</td>\n",
       "      <td>59</td>\n",
       "      <td>FCW</td>\n",
       "      <td>12.00</td>\n",
       "      <td>9.551635</td>\n",
       "      <td>76.512932</td>\n",
       "      <td>01-01-2020</td>\n",
       "      <td>00:00:22</td>\n",
       "      <td>AM</td>\n",
       "    </tr>\n",
       "    <tr>\n",
       "      <th>6</th>\n",
       "      <td>1</td>\n",
       "      <td>12DF03C6:19523068255842304686</td>\n",
       "      <td>78</td>\n",
       "      <td>FCW</td>\n",
       "      <td>12.18</td>\n",
       "      <td>9.509503</td>\n",
       "      <td>76.527138</td>\n",
       "      <td>12-12-2019</td>\n",
       "      <td>00:18:42</td>\n",
       "      <td>AM</td>\n",
       "    </tr>\n",
       "    <tr>\n",
       "      <th>7</th>\n",
       "      <td>1</td>\n",
       "      <td>12DF03C6:19523068255842304686</td>\n",
       "      <td>51</td>\n",
       "      <td>FCW</td>\n",
       "      <td>12.49</td>\n",
       "      <td>9.329367</td>\n",
       "      <td>76.375771</td>\n",
       "      <td>24-12-2019</td>\n",
       "      <td>00:49:23</td>\n",
       "      <td>AM</td>\n",
       "    </tr>\n",
       "    <tr>\n",
       "      <th>8</th>\n",
       "      <td>1</td>\n",
       "      <td>12DF03C6:19683837391187968688</td>\n",
       "      <td>65</td>\n",
       "      <td>HMW</td>\n",
       "      <td>12.06</td>\n",
       "      <td>9.248653</td>\n",
       "      <td>76.467247</td>\n",
       "      <td>16-01-2020</td>\n",
       "      <td>00:06:28</td>\n",
       "      <td>AM</td>\n",
       "    </tr>\n",
       "    <tr>\n",
       "      <th>9</th>\n",
       "      <td>2</td>\n",
       "      <td>12DF03C6:19727335125463040688</td>\n",
       "      <td>55</td>\n",
       "      <td>HMW</td>\n",
       "      <td>12.08</td>\n",
       "      <td>12.289743</td>\n",
       "      <td>76.659012</td>\n",
       "      <td>26-11-2019</td>\n",
       "      <td>00:08:35</td>\n",
       "      <td>AM</td>\n",
       "    </tr>\n",
       "  </tbody>\n",
       "</table>\n",
       "</div>"
      ],
      "text/plain": [
       "   _id_id                       deviceId  speed alarmType  recorded_at_hour  \\\n",
       "0       1  12DF03C6:19727335125463040688     68       HMW             12.01   \n",
       "1       1  12DF03C6:19523068255842304686     66       FCW             12.05   \n",
       "2       1  12DF03C6:19613968860508160686     40       FCW             12.57   \n",
       "3       1  12DF03C6:19890203641970688685     65       HMW             12.02   \n",
       "4       1  12DF03C6:19523068255842304686     60       HMW             12.06   \n",
       "5       1  12DF03C6:19523068255842304686     59       FCW             12.00   \n",
       "6       1  12DF03C6:19523068255842304686     78       FCW             12.18   \n",
       "7       1  12DF03C6:19523068255842304686     51       FCW             12.49   \n",
       "8       1  12DF03C6:19683837391187968688     65       HMW             12.06   \n",
       "9       2  12DF03C6:19727335125463040688     55       HMW             12.08   \n",
       "\n",
       "    latitude  longitude recorded_at_date recorded_at_time AM/PM  \n",
       "0  12.458807  78.215302       15-11-2019         00:01:36    AM  \n",
       "1  11.874505  75.379805       11-01-2020         00:05:49    AM  \n",
       "2  11.551686  76.038635       20-10-2019         00:57:55    AM  \n",
       "3  10.057168  76.529190       01-11-2019         00:02:08    AM  \n",
       "4   9.839572  76.593063       26-11-2019         00:06:32    AM  \n",
       "5   9.551635  76.512932       01-01-2020         00:00:22    AM  \n",
       "6   9.509503  76.527138       12-12-2019         00:18:42    AM  \n",
       "7   9.329367  76.375771       24-12-2019         00:49:23    AM  \n",
       "8   9.248653  76.467247       16-01-2020         00:06:28    AM  \n",
       "9  12.289743  76.659012       26-11-2019         00:08:35    AM  "
      ]
     },
     "execution_count": 15,
     "metadata": {},
     "output_type": "execute_result"
    }
   ],
   "source": [
    "af=pd.read_csv(r'C:\\Users\\Stan\\Downloads\\alert_data_.csv')\n",
    "\n",
    "af.replace('null',np.NaN)\n",
    "\n",
    "af.head(10)"
   ]
  },
  {
   "cell_type": "code",
   "execution_count": 16,
   "metadata": {},
   "outputs": [],
   "source": [
    "\n",
    "af['deviceId']=af['deviceId'].astype('category')\n",
    "af['deviceId_cat']=af['deviceId'].cat.codes\n",
    "\n",
    "af['alarmType']=af['alarmType'].astype('category')\n",
    "af['alarmType_cat']=af['alarmType'].cat.codes"
   ]
  },
  {
   "cell_type": "code",
   "execution_count": 17,
   "metadata": {},
   "outputs": [
    {
     "name": "stdout",
     "output_type": "stream",
     "text": [
      "{'12DF03C6:19683837391187968688', '12DF03C6:19317455059550208687', '12DF03C6:19727335125463040688', '12DF03C6:19890203641970688685', '12DF03C6:19613968860508160686', '12DF03C6:19636436681228288687', '12DF03C6:19890368935358464685', '12DF03C6:19978048393314304687', '12DF03C6:19523068255842304686'}\n",
      "\n",
      "\n",
      "\n",
      "12DF03C6:19636436681228288687  :  3\n",
      "12DF03C6:19978048393314304687  :  8\n",
      "12DF03C6:19890203641970688685  :  6\n",
      "12DF03C6:19317455059550208687  :  0\n",
      "12DF03C6:19727335125463040688  :  5\n",
      "12DF03C6:19613968860508160686  :  2\n",
      "12DF03C6:19523068255842304686  :  1\n",
      "12DF03C6:19683837391187968688  :  4\n",
      "12DF03C6:19890368935358464685  :  7\n"
     ]
    }
   ],
   "source": [
    "print(set(af[\"deviceId\"]))\n",
    "\n",
    "print(\"\\n\\n\")\n",
    "\n",
    "print(\"12DF03C6:19636436681228288687  :  3\")\n",
    "print(\"12DF03C6:19978048393314304687  :  8\")\n",
    "print(\"12DF03C6:19890203641970688685  :  6\")\n",
    "print(\"12DF03C6:19317455059550208687  :  0\")\n",
    "print(\"12DF03C6:19727335125463040688  :  5\")\n",
    "print(\"12DF03C6:19613968860508160686  :  2\")\n",
    "print(\"12DF03C6:19523068255842304686  :  1\")\n",
    "print(\"12DF03C6:19683837391187968688  :  4\")\n",
    "print(\"12DF03C6:19890368935358464685  :  7\")\n"
   ]
  },
  {
   "cell_type": "code",
   "execution_count": 18,
   "metadata": {},
   "outputs": [
    {
     "name": "stdout",
     "output_type": "stream",
     "text": [
      "vehicle density\n"
     ]
    },
    {
     "data": {
      "image/png": "[encoded data removed]",
      "text/plain": [
       "<Figure size 432x288 with 1 Axes>"
      ]
     },
     "metadata": {},
     "output_type": "display_data"
    },
    {
     "name": "stdout",
     "output_type": "stream",
     "text": [
      "\n",
      "\n",
      "alarm type density\n"
     ]
    },
    {
     "data": {
      "image/png": "[encoded data removed]",
      "text/plain": [
       "<Figure size 432x288 with 1 Axes>"
      ]
     },
     "metadata": {},
     "output_type": "display_data"
    },
    {
     "name": "stdout",
     "output_type": "stream",
     "text": [
      "\n",
      "\n",
      "longitude vs latitude\n"
     ]
    },
    {
     "data": {
      "image/png": "[encoded data removed]",
      "text/plain": [
       "<Figure size 432x288 with 1 Axes>"
      ]
     },
     "metadata": {},
     "output_type": "display_data"
    },
    {
     "name": "stdout",
     "output_type": "stream",
     "text": [
      "\n",
      "\n"
     ]
    }
   ],
   "source": [
    "#device id density\n",
    "\n",
    "print(\"vehicle density\")\n",
    "sns.set(style=\"darkgrid\")\n",
    "sns.countplot(x=\"deviceId_cat\",data=af)\n",
    "plt.show()\n",
    "print(\"\\n\")\n",
    "\n",
    "#alarm type density\n",
    "\n",
    "print(\"alarm type density\")\n",
    "sns.countplot(x=\"alarmType\",data=af)\n",
    "plt.show()\n",
    "print(\"\\n\")\n",
    "\n",
    "#lat long\n",
    "\n",
    "print('longitude vs latitude')\n",
    "plt.scatter(af['longitude'],af['latitude'])\n",
    "plt.ylabel('latitude')\n",
    "plt.xlabel('longitude')\n",
    "plt.show()\n",
    "print(\"\\n\")\n",
    "\n"
   ]
  },
  {
   "cell_type": "code",
   "execution_count": 19,
   "metadata": {},
   "outputs": [],
   "source": [
    "def CountFrequency(my_list): \n",
    "  \n",
    "    # Creating an empty dictionary  \n",
    "    freq = {} \n",
    "    for item in my_list: \n",
    "        if (item in freq): \n",
    "            freq[item] += 1\n",
    "        else: \n",
    "            freq[item] = 1\n",
    "  \n",
    "    for key, value in freq.items(): \n",
    "        print (key,\" : \", value) \n",
    "  \n",
    "\n",
    "  \n"
   ]
  },
  {
   "cell_type": "code",
   "execution_count": 40,
   "metadata": {},
   "outputs": [
    {
     "name": "stdout",
     "output_type": "stream",
     "text": [
      "12DF03C6:19727335125463040688  :  15388\n",
      "12DF03C6:19523068255842304686  :  24296\n",
      "12DF03C6:19613968860508160686  :  7096\n",
      "12DF03C6:19890203641970688685  :  7369\n",
      "12DF03C6:19683837391187968688  :  21790\n",
      "12DF03C6:19978048393314304687  :  20815\n",
      "12DF03C6:19317455059550208687  :  2647\n",
      "12DF03C6:19890368935358464685  :  1676\n",
      "12DF03C6:19636436681228288687  :  17261\n",
      "\n",
      " \n",
      " Alarmtype vs vehicle id \n",
      "\n",
      "                         deviceId alarmType  count\n",
      "0   12DF03C6:19317455059550208687       FCW   1456\n",
      "1   12DF03C6:19317455059550208687        HB     66\n",
      "2   12DF03C6:19317455059550208687       HMW    640\n",
      "3   12DF03C6:19317455059550208687       PCW      1\n",
      "4   12DF03C6:19317455059550208687  stoppage    484\n",
      "5   12DF03C6:19523068255842304686       FCW   8738\n",
      "6   12DF03C6:19523068255842304686        HB    239\n",
      "7   12DF03C6:19523068255842304686       HMW  14535\n",
      "8   12DF03C6:19523068255842304686       PCW    467\n",
      "9   12DF03C6:19523068255842304686  stoppage    317\n",
      "10  12DF03C6:19613968860508160686       FCW   2990\n",
      "11  12DF03C6:19613968860508160686        HB      0\n",
      "12  12DF03C6:19613968860508160686       HMW   3974\n",
      "13  12DF03C6:19613968860508160686       PCW    132\n",
      "14  12DF03C6:19613968860508160686  stoppage      0\n",
      "15  12DF03C6:19636436681228288687       FCW   8692\n",
      "16  12DF03C6:19636436681228288687        HB    235\n",
      "17  12DF03C6:19636436681228288687       HMW   6103\n",
      "18  12DF03C6:19636436681228288687       PCW   1940\n",
      "19  12DF03C6:19636436681228288687  stoppage    291\n",
      "20  12DF03C6:19683837391187968688       FCW   9627\n",
      "21  12DF03C6:19683837391187968688        HB    300\n",
      "22  12DF03C6:19683837391187968688       HMW  11072\n",
      "23  12DF03C6:19683837391187968688       PCW    528\n",
      "24  12DF03C6:19683837391187968688  stoppage    263\n",
      "25  12DF03C6:19727335125463040688       FCW   6194\n",
      "26  12DF03C6:19727335125463040688        HB      0\n",
      "27  12DF03C6:19727335125463040688       HMW   8900\n",
      "28  12DF03C6:19727335125463040688       PCW    294\n",
      "29  12DF03C6:19727335125463040688  stoppage      0\n",
      "30  12DF03C6:19890203641970688685       FCW   2567\n",
      "31  12DF03C6:19890203641970688685        HB      0\n",
      "32  12DF03C6:19890203641970688685       HMW   4569\n",
      "33  12DF03C6:19890203641970688685       PCW    224\n",
      "34  12DF03C6:19890203641970688685  stoppage      9\n",
      "35  12DF03C6:19890368935358464685       FCW    638\n",
      "36  12DF03C6:19890368935358464685        HB     28\n",
      "37  12DF03C6:19890368935358464685       HMW    728\n",
      "38  12DF03C6:19890368935358464685       PCW     11\n",
      "39  12DF03C6:19890368935358464685  stoppage    271\n",
      "40  12DF03C6:19978048393314304687       FCW  10579\n",
      "41  12DF03C6:19978048393314304687        HB     68\n",
      "42  12DF03C6:19978048393314304687       HMW   7543\n",
      "43  12DF03C6:19978048393314304687       PCW   2412\n",
      "44  12DF03C6:19978048393314304687  stoppage    213\n"
     ]
    }
   ],
   "source": [
    "CountFrequency(af[\"deviceId\"])\n",
    "print(\"\\n \\n Alarmtype vs vehicle id \\n\")\n",
    "\n",
    "g = af.groupby(['deviceId','alarmType']).agg('size').reset_index(name='count')\n",
    "\n",
    "c=pd.DataFrame(g)\n",
    "print(c)"
   ]
  },
  {
   "cell_type": "raw",
   "metadata": {},
   "source": [
    "print(\"\\n \\n Alarmtype vs vehicle id \\n\")\n",
    "\n",
    "g = af.groupby(['deviceId','alarmType']).agg('size').reset_index(name='count')\n",
    "\n",
    "c=pd.DataFrame(g)\n",
    "print(c)"
   ]
  },
  {
   "cell_type": "code",
   "execution_count": 78,
   "metadata": {},
   "outputs": [
    {
     "name": "stdout",
     "output_type": "stream",
     "text": [
      "deviceId     category\n",
      "alarmType    category\n",
      "count           int64\n",
      "dtype: object\n"
     ]
    }
   ],
   "source": [
    "\n",
    "gr = af.groupby(['deviceId','speed']).agg('size').reset_index(name='count')\n",
    "\n",
    "cr=pd.DataFrame(gr)\n",
    "cr.dtypes\n"
   ]
  },
  {
   "cell_type": "code",
   "execution_count": 82,
   "metadata": {},
   "outputs": [
    {
     "name": "stdout",
     "output_type": "stream",
     "text": [
      "100\n",
      "49.5\n"
     ]
    }
   ],
   "source": [
    "\n",
    "sum=0\n",
    "s=0\n",
    "id='12DF03C6:19890203641970688685'\n",
    "for i in range(len(cr['deviceId'])):\n",
    "    if(cr['deviceId'][i]==id):\n",
    "        s=s+1\n",
    "        sum=sum+cr['speed'][i]\n",
    "\n",
    "\n",
    "print(sum/s)"
   ]
  },
  {
   "cell_type": "code",
   "execution_count": 88,
   "metadata": {},
   "outputs": [
    {
     "data": {
      "text/plain": [
       "({'FCW': 2567, 'HB': 0, 'HMW': 4569, 'PCW': 224, 'stoppage': 9},\n",
       " 'HMW',\n",
       " 4569,\n",
       " 49.5)"
      ]
     },
     "execution_count": 88,
     "metadata": {},
     "output_type": "execute_result"
    }
   ],
   "source": [
    "def ind(id):\n",
    "    for i in range(len(c['deviceId'])):\n",
    "        if(c['deviceId'][i]==id): \n",
    "            return i\n",
    "        \n",
    "def res(id):\n",
    "            i=ind(id)\n",
    "            #print(\"Alert summary: \\n\")\n",
    "            max=c['count'][i]\n",
    "            indx=0\n",
    "            d={}\n",
    "            sum=0\n",
    "            s=0\n",
    "            \n",
    "            for x in range(len(cr['deviceId'])):\n",
    "                if(cr['deviceId'][x]==id):\n",
    "                    s=s+1\n",
    "                    sum=sum+cr['speed'][x]\n",
    "            sp_avg=sum/s\n",
    "            for m in range(i,i+5):\n",
    "                #print(c['alarmType'][m],c['count'][m])\n",
    "                d[c['alarmType'][m]]=c['count'][m]\n",
    "                if(c['count'][m] > max):\n",
    "                    max=c['count'][m]\n",
    "                    indx=m\n",
    "                    \n",
    "            #print('\\nMax occuring alert  :\\n ')\n",
    "            #print(c['alarmType'][indx],max)\n",
    "            return d, c['alarmType'][indx], max, sp_avg\n",
    "            \n",
    "    \n",
    "res('12DF03C6:19890203641970688685') "
   ]
  },
  {
   "cell_type": "code",
   "execution_count": null,
   "metadata": {},
   "outputs": [],
   "source": [
    "import tkinter as tk\n",
    "\n",
    "root= tk.Tk()\n",
    "\n",
    "canvas1 = tk.Canvas(root, width = 400, height = 300,  relief = 'raised')\n",
    "canvas1.pack()\n",
    "\n",
    "label1 = tk.Label(root, text='Vehicle Analysis')\n",
    "label1.config(font=('helvetica', 14))\n",
    "canvas1.create_window(200, 25, window=label1)\n",
    "\n",
    "label2 = tk.Label(root, text='Enter vehicle id:')\n",
    "label2.config(font=('helvetica', 10))\n",
    "canvas1.create_window(200, 100, window=label2)\n",
    "\n",
    "entry1 = tk.Entry (root)\n",
    "canvas1.create_window(200, 140, window=entry1)\n",
    "\n",
    "def value ():\n",
    "    \n",
    "    x1 = entry1.get()\n",
    "    a,b,c,d=res(x1)\n",
    "    \n",
    "    l=[]\n",
    "    l.append(b)\n",
    "    l.append(c)        \n",
    "    sp= tk.Label(root, text=' ').pack()\n",
    "    sp= tk.Label(root, text=' ').pack()\n",
    "    label3 = tk.Label(root, text='Max occuring alert: ').pack()\n",
    "    label4 = tk.Label(root, text=l).pack()\n",
    "    sp= tk.Label(root, text=' ').pack()\n",
    "    label10 = tk.Label(root, text='Average Speed: ').pack()\n",
    "    label5 = tk.Label(root, text=d).pack()    \n",
    "        \n",
    "    sp= tk.Label(root, text=' ').pack()\n",
    "    label2 = tk.Label(root, text='Alert summary: ').pack()\n",
    "    label9 = tk.Label(root, text=a).pack()  \n",
    "  \n",
    "    \n",
    "button1 = tk.Button(text='Submit', bg='brown', fg='white',font=('helvetica', 9, 'bold'),command=value).pack()\n",
    "canvas1.create_window(200, 300, window=button1)\n",
    "\n",
    "root.mainloop()\n",
    "\n"
   ]
  },
  {
   "cell_type": "code",
   "execution_count": null,
   "metadata": {},
   "outputs": [],
   "source": [
    "\n",
    "print(\"\\n \\n Alarmtype vs speed \\n\")\n",
    "c = pd.pivot_table(af,index=['alarmType','speed'],aggfunc='size')\n",
    "pd.set_option(\"display.max_rows\",af.shape[0] + 1)\n",
    "print(\"\\n\",c)"
   ]
  },
  {
   "cell_type": "code",
   "execution_count": null,
   "metadata": {},
   "outputs": [],
   "source": [
    "#alarm type vs speed\n",
    "\n",
    "print(\"alarm type vs speed\")\n",
    "plt.scatter(af['alarmType'],af['speed'])\n",
    "plt.ylabel('speed')\n",
    "plt.xlabel('alarmType')\n",
    "plt.show()\n",
    "print(\"\\n\")\n",
    "\n"
   ]
  },
  {
   "cell_type": "code",
   "execution_count": null,
   "metadata": {},
   "outputs": [],
   "source": [
    "from pandas.plotting import scatter_matrix\n",
    "scatter_matrix(af[['deviceId_cat','speed','alarmType_cat','latitude','longitude','recorded_at_time']], figsize=(15,11))"
   ]
  },
  {
   "cell_type": "code",
   "execution_count": null,
   "metadata": {},
   "outputs": [],
   "source": [
    "plt.show()"
   ]
  },
  {
   "cell_type": "code",
   "execution_count": null,
   "metadata": {},
   "outputs": [],
   "source": [
    "print(\"Pearson coeff r\")\n",
    "af.corr(method=\"pearson\")"
   ]
  },
  {
   "cell_type": "code",
   "execution_count": null,
   "metadata": {},
   "outputs": [],
   "source": [
    "print(\"Kendall coeff tau\")\n",
    "af.corr(method=\"kendall\")"
   ]
  },
  {
   "cell_type": "code",
   "execution_count": null,
   "metadata": {},
   "outputs": [],
   "source": [
    "print(\"spearman coeff p\")\n",
    "af.corr(method=\"spearman\")"
   ]
  },
  {
   "cell_type": "code",
   "execution_count": null,
   "metadata": {
    "collapsed": true
   },
   "outputs": [],
   "source": [
    "12DF03C6:19317455059550208687"
   ]
  }
 ],
 "metadata": {
  "kernelspec": {
   "display_name": "Python 3",
   "language": "python",
   "name": "python3"
  },
  "language_info": {
   "codemirror_mode": {
    "name": "ipython",
    "version": 3
   },
   "file_extension": ".py",
   "mimetype": "text/x-python",
   "name": "python",
   "nbconvert_exporter": "python",
   "pygments_lexer": "ipython3",
   "version": "3.7.7"
  }
 },
 "nbformat": 4,
 "nbformat_minor": 2
}
